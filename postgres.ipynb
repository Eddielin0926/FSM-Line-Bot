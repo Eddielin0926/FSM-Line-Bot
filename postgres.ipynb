{
 "cells": [
  {
   "cell_type": "code",
   "execution_count": 31,
   "id": "b58552f6",
   "metadata": {},
   "outputs": [],
   "source": [
    "import os\n",
    "import psycopg2"
   ]
  },
  {
   "cell_type": "code",
   "execution_count": 32,
   "id": "b7be7baa",
   "metadata": {},
   "outputs": [],
   "source": [
    "DATABASE_URL = os.popen('heroku config:get DATABASE_URL -a eddie-lin-line-bot').read()[:-1]\n",
    "conn = psycopg2.connect(DATABASE_URL, sslmode='require')\n",
    "cursor = conn.cursor()"
   ]
  },
  {
   "cell_type": "code",
   "execution_count": 33,
   "id": "44aa728f",
   "metadata": {},
   "outputs": [],
   "source": [
    "SQL_order = '''CREATE TABLE IF NOT EXISTS account(\n",
    "           id serial PRIMARY KEY,\n",
    "           line_id VARCHAR (50) UNIQUE NOT NULL,\n",
    "           nickname VARCHAR (50),\n",
    "           gender INT,\n",
    "           age INT,\n",
    "           prefered_gender INT,\n",
    "           prefered_age INT\n",
    "        );'''\n",
    "cursor.execute(SQL_order)\n",
    "conn.commit()"
   ]
  },
  {
   "cell_type": "code",
   "execution_count": 34,
   "id": "26fcbcf3",
   "metadata": {},
   "outputs": [
    {
     "name": "stdout",
     "output_type": "stream",
     "text": [
      "1\n"
     ]
    }
   ],
   "source": [
    "record = ('Udaf276a181b83f9607a5bf70ef7707cc')\n",
    "table_columns = 'line_id'\n",
    "sql = \"\"\"INSERT INTO account ({table_columns}) VALUES (%s) RETURNING id;\"\"\"\n",
    "\n",
    "cursor.execute(sql, (record,))\n",
    "conn.commit()\n",
    "\n",
    "id = cursor.fetchone()[0]\n",
    "print(id)"
   ]
  },
  {
   "cell_type": "code",
   "execution_count": 35,
   "id": "227182c7",
   "metadata": {},
   "outputs": [],
   "source": [
    "cursor.close()\n",
    "conn.close()"
   ]
  }
 ],
 "metadata": {
  "kernelspec": {
   "display_name": "Python 3 (ipykernel)",
   "language": "python",
   "name": "python3"
  },
  "language_info": {
   "codemirror_mode": {
    "name": "ipython",
    "version": 3
   },
   "file_extension": ".py",
   "mimetype": "text/x-python",
   "name": "python",
   "nbconvert_exporter": "python",
   "pygments_lexer": "ipython3",
   "version": "3.6.13"
  }
 },
 "nbformat": 4,
 "nbformat_minor": 5
}
